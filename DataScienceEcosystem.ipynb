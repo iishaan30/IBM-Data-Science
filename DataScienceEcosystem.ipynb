{
 "cells": [
  {
   "cell_type": "markdown",
   "id": "9adb400e-e5e9-4579-9d8a-f86e6d2166ba",
   "metadata": {},
   "source": [
    "# Data Science Tools and Ecosystem"
   ]
  },
  {
   "cell_type": "markdown",
   "id": "ee54aebd-b43b-411a-822c-cc31bde33fba",
   "metadata": {},
   "source": [
    "## Introduction\n",
    "In this notebook, Data Science Tools and Ecosystem are summarized"
   ]
  },
  {
   "cell_type": "markdown",
   "id": "f7d571fe-12c7-4b15-8736-e4f3ffcf92a4",
   "metadata": {},
   "source": [
    "## Data Science Languages\n",
    "\n",
    "Data scientists often use a variety of programming languages for their work. Some of the most popular data science languages include:\n",
    "\n",
    "1. **Python**: Python is one of the most widely used programming languages in data science. It has a rich ecosystem of libraries and tools, such as NumPy, pandas, scikit-learn, and TensorFlow, that make it a versatile choice for data analysis and machine learning.\n",
    "\n",
    "2. **R**: R is another popular language for data analysis and statistics. It's known for its extensive statistical packages and data visualization capabilities, making it a preferred choice for statisticians and data analysts.\n",
    "\n",
    "3. **SQL**: SQL (Structured Query Language) is essential for working with relational databases. Data scientists often use SQL to query and manipulate data stored in databases.\n",
    "\n",
    "4. **Julia**: Julia is gaining popularity in data science due to its high performance and the ability to easily integrate with other languages. It's particularly useful for tasks that require complex mathematical computations.\n",
    "\n",
    "5. **Scala**: Scala is a programming language that can be used with Apache Spark, a popular big data processing framework. It's well-suited for distributed data processing and analytics.\n",
    "\n",
    "6. **Java**: Java is commonly used in big data technologies, such as Hadoop and Apache Flink. It's essential for developing scalable data processing applications.\n",
    "\n",
    "These are just a few of the languages used in data science, and the choice of language often depends on the specific tasks and tools used in a data science project.\n"
   ]
  },
  {
   "cell_type": "markdown",
   "id": "2fffb451-aaaa-4564-a048-e0bf64d4b919",
   "metadata": {},
   "source": [
    "## Data Science Libraries\n",
    "\n",
    "Data science relies on a wide range of libraries and packages to facilitate various tasks. Here are some of the most popular data science libraries:\n",
    "\n",
    "1. **NumPy**: NumPy is a fundamental library for numerical computing in Python. It provides support for large, multi-dimensional arrays and matrices, along with mathematical functions to operate on these arrays.\n",
    "\n",
    "2. **pandas**: pandas is a powerful data manipulation and analysis library for Python. It offers data structures like DataFrames for efficient data handling and manipulation.\n",
    "\n",
    "3. **scikit-learn**: scikit-learn is a machine learning library for Python. It includes a wide variety of machine learning algorithms and tools for tasks like classification, regression, clustering, and more.\n",
    "\n",
    "4. **Matplotlib**: Matplotlib is a popular Python library for creating static, animated, and interactive visualizations. It's commonly used for data visualization and exploration.\n",
    "\n",
    "5. **Seaborn**: Seaborn is built on top of Matplotlib and provides a high-level interface for creating attractive and informative statistical graphics.\n",
    "\n",
    "6. **TensorFlow**: TensorFlow is an open-source machine learning framework developed by Google. It's particularly useful for deep learning tasks and neural network development."
   ]
  },
  {
   "cell_type": "markdown",
   "id": "65d9bb70-e554-4ce3-8e0b-1335200c1e6a",
   "metadata": {},
   "source": [
    "## Data Science Tools\r\n",
    "\r\n",
    "| Tool                   | Description                                      |\r\n",
    "|------------------------|--------------------------------------------------|\r\n",
    "| **Jupyter Notebook**   | An open-source web application for interactive data analysis, visualization, and coding in various languages.|\r\n",
    "| **RStudio**            | An integrated development environment (IDE) for R, which is widely used for statistical analysis and data visualization.|\r\n",
    "| **Visual Studio Code** | A popular, open-source code editor with extensive extensions and integrations, making it versatile for various languages and tasks.|\r\n",
    "| **PyCharm**            | A Python-specific integrated development environment (IDE) that provides features for coding, debugging, and version control.|\r\n",
    "| **Tableau**            | A data visualization tool that allows users to create interactive and shareable dashboards.|\r\n",
    "| **Power BI**           | A business analytics service by Microsoft that enables users to visualize and share insights from data.|\r\n",
    "| **SAS**                | A software suite for advanced analytics, business intelligence, and data management.|\r\n",
    "| **Excel**              | Microsoft Excel is commonly used for data analysis and basic data visualizatithese tools valuable.\r\n"
   ]
  },
  {
   "cell_type": "markdown",
   "id": "e2c2d4d8-2a1a-40eb-bd20-eaad6a330192",
   "metadata": {},
   "source": [
    "## Arithmetic Expression Examples\n",
    "Below are some Arithmetic Examples"
   ]
  },
  {
   "cell_type": "code",
   "execution_count": 7,
   "id": "dd109299-5973-4276-8410-9d2d6d1f73a5",
   "metadata": {},
   "outputs": [
    {
     "data": {
      "text/plain": [
       "17"
      ]
     },
     "execution_count": 7,
     "metadata": {},
     "output_type": "execute_result"
    }
   ],
   "source": [
    "#This a simple arithmetic expression to mutiply then add integers\n",
    "(3*4)+5"
   ]
  },
  {
   "cell_type": "code",
   "execution_count": 8,
   "id": "ecf4423d-fd64-4e23-bc37-79eb61d86de9",
   "metadata": {},
   "outputs": [
    {
     "data": {
      "text/plain": [
       "10.0"
      ]
     },
     "execution_count": 8,
     "metadata": {},
     "output_type": "execute_result"
    }
   ],
   "source": [
    "#This will convert 600 minutes to hours by dividing by 60\n",
    "600/60"
   ]
  },
  {
   "cell_type": "markdown",
   "id": "4981748c-7856-4d0f-b025-487fee531623",
   "metadata": {},
   "source": [
    "## Objectives\n",
    "1. **Languages for Data Science**\n",
    "2. **Open Source Tools for Data Science**\n",
    "3. **Data Science Libraries**"
   ]
  },
  {
   "cell_type": "markdown",
   "id": "b3bebd11-8175-48c4-80f3-8fb69c9bd571",
   "metadata": {},
   "source": [
    "## Author : Iishaan Jha"
   ]
  },
  {
   "cell_type": "code",
   "execution_count": null,
   "id": "9b26b921-f1d0-40c6-9cff-41bbda85936c",
   "metadata": {},
   "outputs": [],
   "source": []
  }
 ],
 "metadata": {
  "kernelspec": {
   "display_name": "Python 3 (ipykernel)",
   "language": "python",
   "name": "python3"
  },
  "language_info": {
   "codemirror_mode": {
    "name": "ipython",
    "version": 3
   },
   "file_extension": ".py",
   "mimetype": "text/x-python",
   "name": "python",
   "nbconvert_exporter": "python",
   "pygments_lexer": "ipython3",
   "version": "3.11.4"
  }
 },
 "nbformat": 4,
 "nbformat_minor": 5
}
